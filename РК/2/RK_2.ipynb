{
 "cells": [
  {
   "cell_type": "markdown",
   "id": "746e5dd6-c045-4098-83c7-bfd4f1962de8",
   "metadata": {},
   "source": [
    "# Задание"
   ]
  },
  {
   "cell_type": "markdown",
   "id": "a51ac9a1-1483-45f6-9161-e7be910d21e6",
   "metadata": {},
   "source": [
    "Решение задачи классификации текстов.\n",
    "\n",
    "Необходимо решить задачу классификации текстов на основе любого выбранного Вами датасета (кроме примера, который рассматривался в лекции). Классификация может быть бинарной или многоклассовой. Целевой признак из выбранного Вами датасета может иметь любой физический смысл, примером является задача анализа тональности текста.\n",
    "\n",
    "Необходимо сформировать два варианта векторизации признаков - на основе CountVectorizer и на основе TfidfVectorizer.\n",
    "\n",
    "В качестве классификаторов необходимо использовать два классификатора по варианту для Вашей группы.\n",
    "\n",
    "## Вариант\n",
    "\n",
    "| Учебная группа | Классификатор №1      | Классификатор №2   |\n",
    "|----------------|-----------------------|--------------------|\n",
    "| ИУ5-22М        | RandomForestClassifier| LogisticRegression |"
   ]
  },
  {
   "cell_type": "markdown",
   "id": "a0518556-90b7-47b1-9a9f-2fa0f1634210",
   "metadata": {},
   "source": [
    "# Ход выполнения работы"
   ]
  },
  {
   "cell_type": "code",
   "execution_count": 14,
   "id": "6d33b384-ccc9-4053-af9b-84a34fba50ba",
   "metadata": {},
   "outputs": [],
   "source": [
    "from sklearn.datasets import fetch_20newsgroups\n",
    "from sklearn.model_selection import train_test_split\n",
    "from sklearn.feature_extraction.text import CountVectorizer, TfidfVectorizer\n",
    "from sklearn.ensemble import RandomForestClassifier\n",
    "from sklearn.linear_model import LogisticRegression\n",
    "from sklearn.metrics import classification_report"
   ]
  },
  {
   "cell_type": "code",
   "execution_count": 2,
   "id": "0c5b80b9",
   "metadata": {},
   "outputs": [
    {
     "name": "stdout",
     "output_type": "stream",
     "text": [
      "Целевые классы набора данных: ['alt.atheism', 'comp.graphics', 'sci.med', 'soc.religion.christian']\n",
      "\n",
      "Количество образцов: 2257\n",
      "\n",
      "Некоторые примеры образцов:\n",
      "\n",
      "Класс: comp.graphics\n",
      "Текст: From: sd345@city.ac.uk (Michael Collier)\n",
      "Subject: Converting images to HP LaserJet III?\n",
      "Nntp-Posting-Host: hampton\n",
      "Organization: The City University\n",
      "Lines: 14\n",
      "\n",
      "Does anyone know of a good way (standard PC application/PD utility) to\n",
      "convert tif/img/tga files into LaserJet III format.  We would also like to\n",
      "do the same, converting to HPGL (HP plotter) files.\n",
      "\n",
      "Please email any response.\n",
      "\n",
      "Is this the correct group?\n",
      "\n",
      "Thanks in advance.  Michael.\n",
      "-- \n",
      "Michael Collier (Programmer)                 The Computer Unit,\n",
      "Email: M.P.Collier@uk.ac.city                The City University,\n",
      "Tel: 071 477-8000 x3769                      London,\n",
      "Fax: 071 477-8565                            EC1V 0HB.\n",
      "\n",
      "\n",
      "-------------------------------------------\n",
      "\n",
      "Класс: comp.graphics\n",
      "Текст: From: ani@ms.uky.edu (Aniruddha B. Deglurkar)\n",
      "Subject: help: Splitting a trimming region along a mesh \n",
      "Organization: University Of Kentucky, Dept. of Math Sciences\n",
      "Lines: 28\n",
      "\n",
      "\n",
      "\n",
      "\tHi,\n",
      "\n",
      "\tI have a problem, I hope some of the 'gurus' can help me solve.\n",
      "\n",
      "\tBackground of the problem:\n",
      "\tI have a rectangular mesh in the uv domain, i.e  the mesh is a \n",
      "\tmapping of a 3d Bezier patch into 2d. The area in this domain\n",
      "\twhich is inside a trimming loop had to be rendered. The trimming\n",
      "\tloop is a set of 2d Bezier curve segments.\n",
      "\tFor the sake of notation: the mesh is made up of cells.\n",
      "\n",
      "\tMy problem is this :\n",
      "\tThe trimming area has to be split up into individual smaller\n",
      "\tcells bounded by the trimming curve segments. If a cell\n",
      "\tis wholly inside the area...then it is output as a whole ,\n",
      "\telse it is trivially rejected. \n",
      "\n",
      "\tDoes any body know how thiss can be done, or is there any algo. \n",
      "\tsomewhere for doing this.\n",
      "\n",
      "\tAny help would be appreciated.\n",
      "\n",
      "\tThanks, \n",
      "\tAni.\n",
      "-- \n",
      "To get irritated is human, to stay cool, divine.\n",
      "\n",
      "\n",
      "-------------------------------------------\n",
      "\n",
      "Класс: soc.religion.christian\n",
      "Текст: From: djohnson@cs.ucsd.edu (Darin Johnson)\n",
      "Subject: Re: harrassed at work, could use some prayers\n",
      "Organization: =CSE Dept., U.C. San Diego\n",
      "Lines: 63\n",
      "\n",
      "(Well, I'll email also, but this may apply to other people, so\n",
      "I'll post also.)\n",
      "\n",
      ">I've been working at this company for eight years in various\n",
      ">engineering jobs.  I'm female.  Yesterday I counted and realized that\n",
      ">on seven different occasions I've been sexually harrassed at this\n",
      ">company.\n",
      "\n",
      ">I dreaded coming back to work today.  What if my boss comes in to ask\n",
      ">me some kind of question...\n",
      "\n",
      "Your boss should be the person bring these problems to.  If he/she\n",
      "does not seem to take any action, keep going up higher and higher.\n",
      "Sexual harrassment does not need to be tolerated, and it can be an\n",
      "enormous emotional support to discuss this with someone and know that\n",
      "they are trying to do something about it.  If you feel you can not\n",
      "discuss this with your boss, perhaps your company has a personnel\n",
      "department that can work for you while preserving your privacy.  Most\n",
      "companies will want to deal with this problem because constant anxiety\n",
      "does seriously affect how effectively employees do their jobs.\n",
      "\n",
      "It is unclear from your letter if you have done this or not.  It is\n",
      "not inconceivable that management remains ignorant of employee\n",
      "problems/strife even after eight years (it's a miracle if they do\n",
      "notice).  Perhaps your manager did not bring to the attention of\n",
      "higher ups?  If the company indeed does seem to want to ignore the\n",
      "entire problem, there may be a state agency willing to fight with\n",
      "you.  (check with a lawyer, a women's resource center, etc to find out)\n",
      "\n",
      "You may also want to discuss this with your paster, priest, husband,\n",
      "etc.  That is, someone you know will not be judgemental and that is\n",
      "supportive, comforting, etc.  This will bring a lot of healing.\n",
      "\n",
      ">So I returned at 11:25, only to find that ever single\n",
      ">person had already left for lunch.  They left at 11:15 or so.  No one\n",
      ">could be bothered to call me at the other building, even though my\n",
      ">number was posted.\n",
      "\n",
      "This happens to a lot of people.  Honest.  I believe it may seem\n",
      "to be due to gross insensitivity because of the feelings you are\n",
      "going through.  People in offices tend to be more insensitive while\n",
      "working than they normally are (maybe it's the hustle or stress or...)\n",
      "I've had this happen to me a lot, often because they didn't realize\n",
      "my car was broken, etc.  Then they will come back and wonder why I\n",
      "didn't want to go (this would tend to make me stop being angry at\n",
      "being ignored and make me laugh).  Once, we went off without our\n",
      "boss, who was paying for the lunch :-)\n",
      "\n",
      ">For this\n",
      ">reason I hope good Mr. Moderator allows me this latest indulgence.\n",
      "\n",
      "Well, if you can't turn to the computer for support, what would\n",
      "we do?  (signs of the computer age :-)\n",
      "\n",
      "In closing, please don't let the hateful actions of a single person\n",
      "harm you.  They are doing it because they are still the playground\n",
      "bully and enjoy seeing the hurt they cause.  And you should not\n",
      "accept the opinions of an imbecile that you are worthless - much\n",
      "wiser people hold you in great esteem.\n",
      "-- \n",
      "Darin Johnson\n",
      "djohnson@ucsd.edu\n",
      "  - Luxury!  In MY day, we had to make do with 5 bytes of swap...\n",
      "\n",
      "\n",
      "-------------------------------------------\n",
      "\n"
     ]
    }
   ],
   "source": [
    "категории = ['alt.atheism', 'soc.religion.christian', 'comp.graphics', 'sci.med']\n",
    "новости_обучение = fetch_20newsgroups(subset='train', categories=категории, shuffle=True, random_state=42)\n",
    "\n",
    "print(\"Целевые классы набора данных:\", новости_обучение.target_names)\n",
    "print(\"\\nКоличество образцов:\", len(новости_обучение.data))\n",
    "print(\"\\nНекоторые примеры образцов:\\n\")\n",
    "for i in range(3):\n",
    "    print(\"Класс:\", новости_обучение.target_names[новости_обучение.target[i]])\n",
    "    print(\"Текст:\", новости_обучение.data[i])\n",
    "    print(\"\\n-------------------------------------------\\n\")"
   ]
  },
  {
   "cell_type": "markdown",
   "id": "16ee1690-ed32-44b9-a554-c2e182cf0c8a",
   "metadata": {},
   "source": [
    "Инициализация CountVectorizer и TfidfVectorizer"
   ]
  },
  {
   "cell_type": "code",
   "execution_count": 15,
   "id": "797dfc4e",
   "metadata": {},
   "outputs": [],
   "source": [
    "count_vectorizer = CountVectorizer(stop_words='english')\n",
    "tfidf_vectorizer = TfidfVectorizer(stop_words='english')"
   ]
  },
  {
   "cell_type": "markdown",
   "id": "9f6c2352-7e85-4b97-9e73-c4cfc960153b",
   "metadata": {},
   "source": [
    "Преобразование обучающих данных в признаковые векторы"
   ]
  },
  {
   "cell_type": "code",
   "execution_count": 17,
   "id": "b01e6a1f-889f-4be5-845a-4771fc27833c",
   "metadata": {},
   "outputs": [],
   "source": [
    "X_count = count_vectorizer.fit_transform(новости_обучение.data)\n",
    "X_tfidf = tfidf_vectorizer.fit_transform(новости_обучение.data)"
   ]
  },
  {
   "cell_type": "markdown",
   "id": "fc956dbd-aaf9-4249-afe7-0fab300c4367",
   "metadata": {},
   "source": [
    "Вывод формы признаковых векторов"
   ]
  },
  {
   "cell_type": "code",
   "execution_count": 19,
   "id": "e6963205-4cf6-42e6-afb0-4b44aa7ce594",
   "metadata": {},
   "outputs": [
    {
     "name": "stdout",
     "output_type": "stream",
     "text": [
      "Форма признакового вектора CountVectorizer: (2257, 35482)\n",
      "Форма признакового вектора TfidfVectorizer: (2257, 35482)\n"
     ]
    }
   ],
   "source": [
    "print(\"Форма признакового вектора CountVectorizer:\", X_count.shape)\n",
    "print(\"Форма признакового вектора TfidfVectorizer:\", X_tfidf.shape)"
   ]
  },
  {
   "cell_type": "markdown",
   "id": "cf0cb510-96eb-4369-a9c0-eb98ec7fe24f",
   "metadata": {},
   "source": [
    "Подготовка меток классов"
   ]
  },
  {
   "cell_type": "code",
   "execution_count": 21,
   "id": "cc789367",
   "metadata": {},
   "outputs": [],
   "source": [
    "y = новости_обучение.target# Разделение набора данных на обучающий и тестовый\n",
    "X_count_train, X_count_test, y_train, y_test = train_test_split(X_count, y, test_size=0.2, random_state=42)\n",
    "X_tfidf_train, X_tfidf_test, y_train, y_test = train_test_split(X_tfidf, y, test_size=0.2, random_state=42)"
   ]
  },
  {
   "cell_type": "markdown",
   "id": "5bc8c34f-504e-4a7f-8de4-a0e294dcdd68",
   "metadata": {},
   "source": [
    "Разделение набора данных на обучающий и тестовый"
   ]
  },
  {
   "cell_type": "code",
   "execution_count": 22,
   "id": "48a922cf-ef74-46a6-ba17-ba560bf531ab",
   "metadata": {},
   "outputs": [],
   "source": [
    "X_count_train, X_count_test, y_train, y_test = train_test_split(X_count, y, test_size=0.2, random_state=42)\n",
    "X_tfidf_train, X_tfidf_test, y_train, y_test = train_test_split(X_tfidf, y, test_size=0.2, random_state=42)"
   ]
  },
  {
   "cell_type": "markdown",
   "id": "89887761-ee3d-46a5-8fa8-d8a06500b61c",
   "metadata": {},
   "source": [
    "Инициализация классификатора `Random forest`"
   ]
  },
  {
   "cell_type": "code",
   "execution_count": 23,
   "id": "7169a190",
   "metadata": {},
   "outputs": [],
   "source": [
    "rf_classifier = RandomForestClassifier()\n",
    "# Обучение классификатора Random forest и предсказание\n",
    "rf_classifier.fit(X_count_train, y_train)\n",
    "rf_count_predictions = rf_classifier.predict(X_count_test)\n",
    "rf_count_report = classification_report(y_test, svc_count_predictions)"
   ]
  },
  {
   "cell_type": "markdown",
   "id": "4666da16-6b3c-4668-9342-9b5fa7c1fb20",
   "metadata": {},
   "source": [
    "Инициализация классификатора LogisticRegression"
   ]
  },
  {
   "cell_type": "code",
   "execution_count": 25,
   "id": "fbab03a7",
   "metadata": {},
   "outputs": [],
   "source": [
    "lr_classifier = LogisticRegression(max_iter=1000)"
   ]
  },
  {
   "cell_type": "markdown",
   "id": "7c203828-a943-44a2-8218-9eb6f75d6438",
   "metadata": {},
   "source": [
    "Обучение классификатора LogisticRegression и предсказание"
   ]
  },
  {
   "cell_type": "code",
   "execution_count": 26,
   "id": "0104d2ad-aa73-45c1-b416-821cd2aa90f0",
   "metadata": {},
   "outputs": [],
   "source": [
    "lr_classifier.fit(X_tfidf_train, y_train)\n",
    "lr_tfidf_predictions = lr_classifier.predict(X_tfidf_test)\n",
    "lr_tfidf_report = classification_report(y_test, lr_tfidf_predictions)"
   ]
  },
  {
   "cell_type": "markdown",
   "id": "18950b3d-1ae9-4bb9-bbd5-8a99d9e984e2",
   "metadata": {},
   "source": [
    "Вывод отчета о классификации"
   ]
  },
  {
   "cell_type": "markdown",
   "id": "95911a80-02d8-4ccb-9306-5e121b7b45b2",
   "metadata": {},
   "source": [
    "### Отчет о классификации классификатора случайный лес"
   ]
  },
  {
   "cell_type": "code",
   "execution_count": 27,
   "id": "20b3ae18-d3bf-4e2f-ac77-62f2981fd3d5",
   "metadata": {},
   "outputs": [
    {
     "data": {
      "text/plain": [
       "'              precision    recall  f1-score   support\\n\\n           0       0.97      0.87      0.92        86\\n           1       0.78      0.98      0.87       107\\n           2       0.96      0.83      0.89       132\\n           3       0.93      0.94      0.93       127\\n\\n    accuracy                           0.90       452\\n   macro avg       0.91      0.90      0.90       452\\nweighted avg       0.91      0.90      0.90       452\\n'"
      ]
     },
     "execution_count": 27,
     "metadata": {},
     "output_type": "execute_result"
    }
   ],
   "source": [
    "svc_count_report"
   ]
  },
  {
   "cell_type": "code",
   "execution_count": null,
   "id": "5d4633ed-6173-42ab-93d9-285e58a73b6a",
   "metadata": {},
   "outputs": [],
   "source": [
    "Отчет о классификации классификатора LogisticRegression (признаки TfidfVectorizer):\\n\", lr_tfidf_report)"
   ]
  },
  {
   "cell_type": "code",
   "execution_count": null,
   "id": "b11fb18a-9530-4c6d-8d45-a45bcd1291d5",
   "metadata": {},
   "outputs": [],
   "source": []
  }
 ],
 "metadata": {
  "kernelspec": {
   "display_name": "Python 3 (ipykernel)",
   "language": "python",
   "name": "python3"
  },
  "language_info": {
   "codemirror_mode": {
    "name": "ipython",
    "version": 3
   },
   "file_extension": ".py",
   "mimetype": "text/x-python",
   "name": "python",
   "nbconvert_exporter": "python",
   "pygments_lexer": "ipython3",
   "version": "3.10.12"
  }
 },
 "nbformat": 4,
 "nbformat_minor": 5
}
