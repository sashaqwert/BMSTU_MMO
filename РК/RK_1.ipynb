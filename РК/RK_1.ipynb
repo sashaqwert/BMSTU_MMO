{
 "cells": [
  {
   "cell_type": "markdown",
   "id": "43390c85-48c8-4446-a0f8-f06059bb3fdd",
   "metadata": {},
   "source": [
    "# Задание"
   ]
  },
  {
   "cell_type": "markdown",
   "id": "1f14f65e-c41e-4178-b95a-99cf1d0ffa41",
   "metadata": {},
   "source": [
    "## Выбор варианта задания"
   ]
  },
  {
   "cell_type": "markdown",
   "id": "37f3d3d6-64e0-4db2-bb93-11f4b01e406b",
   "metadata": {},
   "source": [
    "Исходные данные:\n",
    "* Факультет **ИУ**, кафедра **ИУ5**\n",
    "* Учебная группа: **ИУ5-22М**\n",
    "* Порядковый номер в группе на 23.03.2024: **15**"
   ]
  },
  {
   "cell_type": "markdown",
   "id": "1351e8ea-90c7-4a4a-a53c-be367d060726",
   "metadata": {},
   "source": [
    "На основании этих данных были получены следующие задания:\n",
    "| Задача 1 | Задача 2 |\n",
    "|----------|----------|\n",
    "|    15    |   35     |"
   ]
  },
  {
   "cell_type": "markdown",
   "id": "3592c4d4-cecc-4d92-9a24-2521b1d527a6",
   "metadata": {},
   "source": [
    "Также имеется дополнительное требование для группы:\n",
    "* Для студентов групп ИУ5-22М, ИУ5И-22М - для произвольной колонки данных построить гистограмму."
   ]
  },
  {
   "cell_type": "markdown",
   "id": "353e8588-6419-408e-9db4-d632db00e7b8",
   "metadata": {},
   "source": [
    "## Условия задач"
   ]
  },
  {
   "cell_type": "markdown",
   "id": "82c122dd-a368-45f2-97ec-ebbb4ad8ad98",
   "metadata": {},
   "source": [
    "Ниже представлены условия выданных задач"
   ]
  },
  {
   "cell_type": "markdown",
   "id": "af2d3a95-925b-43f7-a5e3-570fea8de34a",
   "metadata": {},
   "source": [
    "### Задача №15"
   ]
  },
  {
   "cell_type": "markdown",
   "id": "1edd2cc6-33a2-4147-aac6-40ed44c1bf13",
   "metadata": {},
   "source": [
    "Для набора данных проведите нормализацию для одного (произвольного) числового признака с использованием функции \"возведение в степень\"."
   ]
  },
  {
   "cell_type": "markdown",
   "id": "8f13f746-618a-42a2-b867-01925ace38ce",
   "metadata": {},
   "source": [
    "### Задача №35"
   ]
  },
  {
   "cell_type": "markdown",
   "id": "f62ffd22-0c64-42a5-89cb-acc6351fa84c",
   "metadata": {},
   "source": [
    "Для набора данных проведите процедуру отбора признаков (feature selection). Используйте метод вложений (embedded method). Используйте подход на основе дерева решений."
   ]
  },
  {
   "cell_type": "markdown",
   "id": "bceb3d65-1eb6-4828-a3d6-f5bb95892ebe",
   "metadata": {},
   "source": [
    "# Ход выполнения работы"
   ]
  },
  {
   "cell_type": "markdown",
   "id": "5bcc2092-3ded-42c0-93e0-0cc47b009820",
   "metadata": {},
   "source": [
    "## Текстовое описание набора данных"
   ]
  },
  {
   "cell_type": "markdown",
   "id": "90f5a4a5-5811-4f60-a2f6-8a1b3f9d1046",
   "metadata": {},
   "source": [
    "В качестве набора данных используется dataset рейтингов университетов мира на основании трёх рейтингов. Датасет доступен по адресу: https://www.kaggle.com/mylesoneill/world-university-rankings\n",
    "\n",
    "Из набора данных будет рассматриваться только файл `cwurData.csv`.\n",
    "\n",
    "Описание столбцов:\n",
    "* `world_rank` - мировой рейтинг университета\n",
    "* `institution` - название университета\n",
    "* `country` - страна, в которой расположен университет\n",
    "* `national_rank` - рейтинг университета в стране его нахождения\n",
    "* `quality_of_education` - рейтинг качества образования\n",
    "* `quality_of_faculty` - рейтинг качества профессорско-преподавательского состава\n",
    "* `publications` - рейтинг публикаций\n",
    "* `infuence` - рейтинг влияния\n",
    "* `citations` - количество студентов в университете\n",
    "* `broad_impact` - рейтинг за широкое влияние (предоставлен только за 2014 и 2015 гг. Остальное - пропуски)\n",
    "* `patents` - рейтинг за патенты\n",
    "* `score` - общий балл, используемый для определения мирового рейтинга\n",
    "* `year` - год рейтинга (с 2012 по 2015 год)"
   ]
  },
  {
   "cell_type": "markdown",
   "id": "a19426fe-4fd5-4e95-9552-b9deb276aa36",
   "metadata": {},
   "source": [
    "## Основные характеристики набора данных"
   ]
  },
  {
   "cell_type": "markdown",
   "id": "77427582-69e0-4605-8136-c9641999b5e3",
   "metadata": {},
   "source": [
    "Подключаем все необходимые библиотеки"
   ]
  },
  {
   "cell_type": "code",
   "execution_count": 1,
   "id": "da5b22eb-3827-49f0-8ae6-f1757af31b49",
   "metadata": {},
   "outputs": [],
   "source": [
    "import numpy as np\n",
    "import pandas as pd\n",
    "import seaborn as sns\n",
    "import matplotlib\n",
    "import matplotlib_inline\n",
    "import matplotlib.pyplot as plt\n",
    "%matplotlib inline \n",
    "sns.set(style=\"ticks\")"
   ]
  },
  {
   "cell_type": "markdown",
   "id": "7573e0fb-80bc-4df9-9341-ae6bf253b5b6",
   "metadata": {},
   "source": [
    "Подключаем Dataset"
   ]
  },
  {
   "cell_type": "code",
   "execution_count": 2,
   "id": "32012578-a5c6-43a7-b1e7-1ce20e9599e7",
   "metadata": {},
   "outputs": [],
   "source": [
    "data = pd.read_csv('cwurData.csv', sep=\",\")"
   ]
  },
  {
   "cell_type": "markdown",
   "id": "c8b7d401-63d3-40f2-8442-6cfde38b83f5",
   "metadata": {},
   "source": [
    "Размер набора данных"
   ]
  },
  {
   "cell_type": "code",
   "execution_count": 3,
   "id": "bf86ffff-71d6-4a0b-9bca-ad7a316c6a21",
   "metadata": {},
   "outputs": [
    {
     "data": {
      "text/plain": [
       "(2200, 14)"
      ]
     },
     "execution_count": 3,
     "metadata": {},
     "output_type": "execute_result"
    }
   ],
   "source": [
    "data.shape"
   ]
  },
  {
   "cell_type": "markdown",
   "id": "f52406bb-b4ab-4bb3-ac0e-eb5a19b8c3a8",
   "metadata": {},
   "source": [
    "Типы колонок"
   ]
  },
  {
   "cell_type": "code",
   "execution_count": 4,
   "id": "f410aeef-e344-4b5c-adfc-be789f166c4b",
   "metadata": {},
   "outputs": [
    {
     "data": {
      "text/plain": [
       "world_rank                int64\n",
       "institution              object\n",
       "country                  object\n",
       "national_rank             int64\n",
       "quality_of_education      int64\n",
       "alumni_employment         int64\n",
       "quality_of_faculty        int64\n",
       "publications              int64\n",
       "influence                 int64\n",
       "citations                 int64\n",
       "broad_impact            float64\n",
       "patents                   int64\n",
       "score                   float64\n",
       "year                      int64\n",
       "dtype: object"
      ]
     },
     "execution_count": 4,
     "metadata": {},
     "output_type": "execute_result"
    }
   ],
   "source": [
    "data.dtypes"
   ]
  },
  {
   "cell_type": "markdown",
   "id": "2ff45931-f1c3-4cea-b601-ed900da7570a",
   "metadata": {},
   "source": [
    "Проверяем, есть ли пропущенные значения"
   ]
  },
  {
   "cell_type": "code",
   "execution_count": 5,
   "id": "30246573-1dbf-497b-96f4-e302259e5022",
   "metadata": {},
   "outputs": [
    {
     "data": {
      "text/plain": [
       "world_rank                0\n",
       "institution               0\n",
       "country                   0\n",
       "national_rank             0\n",
       "quality_of_education      0\n",
       "alumni_employment         0\n",
       "quality_of_faculty        0\n",
       "publications              0\n",
       "influence                 0\n",
       "citations                 0\n",
       "broad_impact            200\n",
       "patents                   0\n",
       "score                     0\n",
       "year                      0\n",
       "dtype: int64"
      ]
     },
     "execution_count": 5,
     "metadata": {},
     "output_type": "execute_result"
    }
   ],
   "source": [
    "data.isnull().sum()"
   ]
  },
  {
   "cell_type": "markdown",
   "id": "52f763c7-645a-468a-9cd6-a029d47074a2",
   "metadata": {},
   "source": [
    "Первые 5 строк датасета"
   ]
  },
  {
   "cell_type": "code",
   "execution_count": 6,
   "id": "6039723f-043a-4deb-957b-eff2fd606d6f",
   "metadata": {},
   "outputs": [
    {
     "data": {
      "text/html": [
       "<div>\n",
       "<style scoped>\n",
       "    .dataframe tbody tr th:only-of-type {\n",
       "        vertical-align: middle;\n",
       "    }\n",
       "\n",
       "    .dataframe tbody tr th {\n",
       "        vertical-align: top;\n",
       "    }\n",
       "\n",
       "    .dataframe thead th {\n",
       "        text-align: right;\n",
       "    }\n",
       "</style>\n",
       "<table border=\"1\" class=\"dataframe\">\n",
       "  <thead>\n",
       "    <tr style=\"text-align: right;\">\n",
       "      <th></th>\n",
       "      <th>world_rank</th>\n",
       "      <th>institution</th>\n",
       "      <th>country</th>\n",
       "      <th>national_rank</th>\n",
       "      <th>quality_of_education</th>\n",
       "      <th>alumni_employment</th>\n",
       "      <th>quality_of_faculty</th>\n",
       "      <th>publications</th>\n",
       "      <th>influence</th>\n",
       "      <th>citations</th>\n",
       "      <th>broad_impact</th>\n",
       "      <th>patents</th>\n",
       "      <th>score</th>\n",
       "      <th>year</th>\n",
       "    </tr>\n",
       "  </thead>\n",
       "  <tbody>\n",
       "    <tr>\n",
       "      <th>0</th>\n",
       "      <td>1</td>\n",
       "      <td>Harvard University</td>\n",
       "      <td>USA</td>\n",
       "      <td>1</td>\n",
       "      <td>7</td>\n",
       "      <td>9</td>\n",
       "      <td>1</td>\n",
       "      <td>1</td>\n",
       "      <td>1</td>\n",
       "      <td>1</td>\n",
       "      <td>NaN</td>\n",
       "      <td>5</td>\n",
       "      <td>100.00</td>\n",
       "      <td>2012</td>\n",
       "    </tr>\n",
       "    <tr>\n",
       "      <th>1</th>\n",
       "      <td>2</td>\n",
       "      <td>Massachusetts Institute of Technology</td>\n",
       "      <td>USA</td>\n",
       "      <td>2</td>\n",
       "      <td>9</td>\n",
       "      <td>17</td>\n",
       "      <td>3</td>\n",
       "      <td>12</td>\n",
       "      <td>4</td>\n",
       "      <td>4</td>\n",
       "      <td>NaN</td>\n",
       "      <td>1</td>\n",
       "      <td>91.67</td>\n",
       "      <td>2012</td>\n",
       "    </tr>\n",
       "    <tr>\n",
       "      <th>2</th>\n",
       "      <td>3</td>\n",
       "      <td>Stanford University</td>\n",
       "      <td>USA</td>\n",
       "      <td>3</td>\n",
       "      <td>17</td>\n",
       "      <td>11</td>\n",
       "      <td>5</td>\n",
       "      <td>4</td>\n",
       "      <td>2</td>\n",
       "      <td>2</td>\n",
       "      <td>NaN</td>\n",
       "      <td>15</td>\n",
       "      <td>89.50</td>\n",
       "      <td>2012</td>\n",
       "    </tr>\n",
       "    <tr>\n",
       "      <th>3</th>\n",
       "      <td>4</td>\n",
       "      <td>University of Cambridge</td>\n",
       "      <td>United Kingdom</td>\n",
       "      <td>1</td>\n",
       "      <td>10</td>\n",
       "      <td>24</td>\n",
       "      <td>4</td>\n",
       "      <td>16</td>\n",
       "      <td>16</td>\n",
       "      <td>11</td>\n",
       "      <td>NaN</td>\n",
       "      <td>50</td>\n",
       "      <td>86.17</td>\n",
       "      <td>2012</td>\n",
       "    </tr>\n",
       "    <tr>\n",
       "      <th>4</th>\n",
       "      <td>5</td>\n",
       "      <td>California Institute of Technology</td>\n",
       "      <td>USA</td>\n",
       "      <td>4</td>\n",
       "      <td>2</td>\n",
       "      <td>29</td>\n",
       "      <td>7</td>\n",
       "      <td>37</td>\n",
       "      <td>22</td>\n",
       "      <td>22</td>\n",
       "      <td>NaN</td>\n",
       "      <td>18</td>\n",
       "      <td>85.21</td>\n",
       "      <td>2012</td>\n",
       "    </tr>\n",
       "  </tbody>\n",
       "</table>\n",
       "</div>"
      ],
      "text/plain": [
       "   world_rank                            institution         country  \\\n",
       "0           1                     Harvard University             USA   \n",
       "1           2  Massachusetts Institute of Technology             USA   \n",
       "2           3                    Stanford University             USA   \n",
       "3           4                University of Cambridge  United Kingdom   \n",
       "4           5     California Institute of Technology             USA   \n",
       "\n",
       "   national_rank  quality_of_education  alumni_employment  quality_of_faculty  \\\n",
       "0              1                     7                  9                   1   \n",
       "1              2                     9                 17                   3   \n",
       "2              3                    17                 11                   5   \n",
       "3              1                    10                 24                   4   \n",
       "4              4                     2                 29                   7   \n",
       "\n",
       "   publications  influence  citations  broad_impact  patents   score  year  \n",
       "0             1          1          1           NaN        5  100.00  2012  \n",
       "1            12          4          4           NaN        1   91.67  2012  \n",
       "2             4          2          2           NaN       15   89.50  2012  \n",
       "3            16         16         11           NaN       50   86.17  2012  \n",
       "4            37         22         22           NaN       18   85.21  2012  "
      ]
     },
     "execution_count": 6,
     "metadata": {},
     "output_type": "execute_result"
    }
   ],
   "source": [
    "data.head()"
   ]
  },
  {
   "cell_type": "code",
   "execution_count": 7,
   "id": "ef1823fc-6d61-49d1-9d9f-6619739d65da",
   "metadata": {},
   "outputs": [
    {
     "name": "stdout",
     "output_type": "stream",
     "text": [
      "Всего строк: 2200\n"
     ]
    }
   ],
   "source": [
    "total_count = data.shape[0]\n",
    "print('Всего строк: {}'.format(total_count))"
   ]
  },
  {
   "cell_type": "markdown",
   "id": "c5f23c76-7d7a-4d83-9a41-8274d68d930c",
   "metadata": {},
   "source": [
    "Процент пропусков в `broad_impact`"
   ]
  },
  {
   "cell_type": "code",
   "execution_count": 8,
   "id": "436facb8-2252-458a-bec6-3c1e995a1af4",
   "metadata": {},
   "outputs": [
    {
     "data": {
      "text/plain": [
       "9.090909090909092"
      ]
     },
     "execution_count": 8,
     "metadata": {},
     "output_type": "execute_result"
    }
   ],
   "source": [
    "(200 / 2200) * 100"
   ]
  },
  {
   "cell_type": "markdown",
   "id": "1b77d715-ecab-492e-8a74-94d76950a947",
   "metadata": {},
   "source": [
    "Настройка отображения графиков"
   ]
  },
  {
   "cell_type": "code",
   "execution_count": 9,
   "id": "652998a8-f5a0-464f-97c9-878ba7054504",
   "metadata": {},
   "outputs": [],
   "source": [
    "# Задание формата графиков для сохранения высокого качества PNG\n",
    "from IPython.display import set_matplotlib_formats\n",
    "matplotlib_inline.backend_inline.set_matplotlib_formats(\"retina\")\n",
    "# Задание ширины графиков, чтобы они помещались на A4"
   ]
  },
  {
   "cell_type": "markdown",
   "id": "3ef0cf7e-4f65-4921-96cb-1bc5830ded39",
   "metadata": {},
   "source": [
    "## Обработка пропусков данных"
   ]
  },
  {
   "cell_type": "markdown",
   "id": "2fd47290-ec26-4877-8719-d79e423cc2f6",
   "metadata": {},
   "source": [
    "### Очистка строк"
   ]
  },
  {
   "cell_type": "markdown",
   "id": "8254ba36-4a89-4e70-b000-be4b97739c90",
   "metadata": {},
   "source": [
    "Можно очистить строки, содержащие пропуски. При этом останутся данные только за 2014 и 2015 гг (см. описание датасета)"
   ]
  },
  {
   "cell_type": "code",
   "execution_count": 10,
   "id": "282dddf1-14ec-4e09-85e1-86f3d2075094",
   "metadata": {},
   "outputs": [
    {
     "data": {
      "text/plain": [
       "((2200, 14), (2000, 14))"
      ]
     },
     "execution_count": 10,
     "metadata": {},
     "output_type": "execute_result"
    }
   ],
   "source": [
    "# Удаление строк, содержащих пустые значения\n",
    "data_no_null = data.dropna(axis=0, how='any')\n",
    "(data.shape, data_no_null.shape)"
   ]
  },
  {
   "cell_type": "markdown",
   "id": "e3f9e8d8-e658-4ab0-b497-9af5e91cd840",
   "metadata": {},
   "source": [
    "Выведем первые 11 строк, чтобы убедиться, что данные в `national_rank` числовые (Jupyter Lab в предпросмотре CSV показывает не совсем верно)"
   ]
  },
  {
   "cell_type": "code",
   "execution_count": 11,
   "id": "0a769906-fadc-4234-b97f-af843cf3cd46",
   "metadata": {},
   "outputs": [
    {
     "data": {
      "text/html": [
       "<div>\n",
       "<style scoped>\n",
       "    .dataframe tbody tr th:only-of-type {\n",
       "        vertical-align: middle;\n",
       "    }\n",
       "\n",
       "    .dataframe tbody tr th {\n",
       "        vertical-align: top;\n",
       "    }\n",
       "\n",
       "    .dataframe thead th {\n",
       "        text-align: right;\n",
       "    }\n",
       "</style>\n",
       "<table border=\"1\" class=\"dataframe\">\n",
       "  <thead>\n",
       "    <tr style=\"text-align: right;\">\n",
       "      <th></th>\n",
       "      <th>world_rank</th>\n",
       "      <th>institution</th>\n",
       "      <th>country</th>\n",
       "      <th>national_rank</th>\n",
       "      <th>quality_of_education</th>\n",
       "      <th>alumni_employment</th>\n",
       "      <th>quality_of_faculty</th>\n",
       "      <th>publications</th>\n",
       "      <th>influence</th>\n",
       "      <th>citations</th>\n",
       "      <th>broad_impact</th>\n",
       "      <th>patents</th>\n",
       "      <th>score</th>\n",
       "      <th>year</th>\n",
       "    </tr>\n",
       "  </thead>\n",
       "  <tbody>\n",
       "    <tr>\n",
       "      <th>200</th>\n",
       "      <td>1</td>\n",
       "      <td>Harvard University</td>\n",
       "      <td>USA</td>\n",
       "      <td>1</td>\n",
       "      <td>1</td>\n",
       "      <td>1</td>\n",
       "      <td>1</td>\n",
       "      <td>1</td>\n",
       "      <td>1</td>\n",
       "      <td>1</td>\n",
       "      <td>1.0</td>\n",
       "      <td>2</td>\n",
       "      <td>100.00</td>\n",
       "      <td>2014</td>\n",
       "    </tr>\n",
       "    <tr>\n",
       "      <th>201</th>\n",
       "      <td>2</td>\n",
       "      <td>Stanford University</td>\n",
       "      <td>USA</td>\n",
       "      <td>2</td>\n",
       "      <td>11</td>\n",
       "      <td>2</td>\n",
       "      <td>4</td>\n",
       "      <td>5</td>\n",
       "      <td>3</td>\n",
       "      <td>3</td>\n",
       "      <td>4.0</td>\n",
       "      <td>6</td>\n",
       "      <td>99.09</td>\n",
       "      <td>2014</td>\n",
       "    </tr>\n",
       "    <tr>\n",
       "      <th>202</th>\n",
       "      <td>3</td>\n",
       "      <td>Massachusetts Institute of Technology</td>\n",
       "      <td>USA</td>\n",
       "      <td>3</td>\n",
       "      <td>3</td>\n",
       "      <td>11</td>\n",
       "      <td>2</td>\n",
       "      <td>15</td>\n",
       "      <td>2</td>\n",
       "      <td>2</td>\n",
       "      <td>2.0</td>\n",
       "      <td>1</td>\n",
       "      <td>98.69</td>\n",
       "      <td>2014</td>\n",
       "    </tr>\n",
       "    <tr>\n",
       "      <th>203</th>\n",
       "      <td>4</td>\n",
       "      <td>University of Cambridge</td>\n",
       "      <td>United Kingdom</td>\n",
       "      <td>1</td>\n",
       "      <td>2</td>\n",
       "      <td>10</td>\n",
       "      <td>5</td>\n",
       "      <td>10</td>\n",
       "      <td>9</td>\n",
       "      <td>12</td>\n",
       "      <td>13.0</td>\n",
       "      <td>48</td>\n",
       "      <td>97.64</td>\n",
       "      <td>2014</td>\n",
       "    </tr>\n",
       "    <tr>\n",
       "      <th>204</th>\n",
       "      <td>5</td>\n",
       "      <td>University of Oxford</td>\n",
       "      <td>United Kingdom</td>\n",
       "      <td>2</td>\n",
       "      <td>7</td>\n",
       "      <td>12</td>\n",
       "      <td>10</td>\n",
       "      <td>11</td>\n",
       "      <td>12</td>\n",
       "      <td>11</td>\n",
       "      <td>12.0</td>\n",
       "      <td>16</td>\n",
       "      <td>97.51</td>\n",
       "      <td>2014</td>\n",
       "    </tr>\n",
       "    <tr>\n",
       "      <th>205</th>\n",
       "      <td>6</td>\n",
       "      <td>Columbia University</td>\n",
       "      <td>USA</td>\n",
       "      <td>4</td>\n",
       "      <td>13</td>\n",
       "      <td>8</td>\n",
       "      <td>9</td>\n",
       "      <td>14</td>\n",
       "      <td>13</td>\n",
       "      <td>9</td>\n",
       "      <td>13.0</td>\n",
       "      <td>4</td>\n",
       "      <td>97.41</td>\n",
       "      <td>2014</td>\n",
       "    </tr>\n",
       "    <tr>\n",
       "      <th>206</th>\n",
       "      <td>7</td>\n",
       "      <td>University of California, Berkeley</td>\n",
       "      <td>USA</td>\n",
       "      <td>5</td>\n",
       "      <td>4</td>\n",
       "      <td>22</td>\n",
       "      <td>6</td>\n",
       "      <td>7</td>\n",
       "      <td>4</td>\n",
       "      <td>3</td>\n",
       "      <td>7.0</td>\n",
       "      <td>28</td>\n",
       "      <td>92.84</td>\n",
       "      <td>2014</td>\n",
       "    </tr>\n",
       "    <tr>\n",
       "      <th>207</th>\n",
       "      <td>8</td>\n",
       "      <td>University of Chicago</td>\n",
       "      <td>USA</td>\n",
       "      <td>6</td>\n",
       "      <td>10</td>\n",
       "      <td>14</td>\n",
       "      <td>8</td>\n",
       "      <td>17</td>\n",
       "      <td>19</td>\n",
       "      <td>10</td>\n",
       "      <td>18.0</td>\n",
       "      <td>149</td>\n",
       "      <td>92.03</td>\n",
       "      <td>2014</td>\n",
       "    </tr>\n",
       "    <tr>\n",
       "      <th>208</th>\n",
       "      <td>9</td>\n",
       "      <td>Princeton University</td>\n",
       "      <td>USA</td>\n",
       "      <td>7</td>\n",
       "      <td>5</td>\n",
       "      <td>16</td>\n",
       "      <td>3</td>\n",
       "      <td>70</td>\n",
       "      <td>25</td>\n",
       "      <td>19</td>\n",
       "      <td>41.0</td>\n",
       "      <td>204</td>\n",
       "      <td>88.56</td>\n",
       "      <td>2014</td>\n",
       "    </tr>\n",
       "    <tr>\n",
       "      <th>209</th>\n",
       "      <td>10</td>\n",
       "      <td>Yale University</td>\n",
       "      <td>USA</td>\n",
       "      <td>8</td>\n",
       "      <td>9</td>\n",
       "      <td>25</td>\n",
       "      <td>11</td>\n",
       "      <td>18</td>\n",
       "      <td>7</td>\n",
       "      <td>32</td>\n",
       "      <td>19.0</td>\n",
       "      <td>45</td>\n",
       "      <td>88.11</td>\n",
       "      <td>2014</td>\n",
       "    </tr>\n",
       "    <tr>\n",
       "      <th>210</th>\n",
       "      <td>11</td>\n",
       "      <td>Cornell University</td>\n",
       "      <td>USA</td>\n",
       "      <td>9</td>\n",
       "      <td>12</td>\n",
       "      <td>18</td>\n",
       "      <td>19</td>\n",
       "      <td>23</td>\n",
       "      <td>15</td>\n",
       "      <td>23</td>\n",
       "      <td>23.0</td>\n",
       "      <td>12</td>\n",
       "      <td>85.80</td>\n",
       "      <td>2014</td>\n",
       "    </tr>\n",
       "  </tbody>\n",
       "</table>\n",
       "</div>"
      ],
      "text/plain": [
       "     world_rank                            institution         country  \\\n",
       "200           1                     Harvard University             USA   \n",
       "201           2                    Stanford University             USA   \n",
       "202           3  Massachusetts Institute of Technology             USA   \n",
       "203           4                University of Cambridge  United Kingdom   \n",
       "204           5                   University of Oxford  United Kingdom   \n",
       "205           6                    Columbia University             USA   \n",
       "206           7     University of California, Berkeley             USA   \n",
       "207           8                  University of Chicago             USA   \n",
       "208           9                   Princeton University             USA   \n",
       "209          10                        Yale University             USA   \n",
       "210          11                     Cornell University             USA   \n",
       "\n",
       "     national_rank  quality_of_education  alumni_employment  \\\n",
       "200              1                     1                  1   \n",
       "201              2                    11                  2   \n",
       "202              3                     3                 11   \n",
       "203              1                     2                 10   \n",
       "204              2                     7                 12   \n",
       "205              4                    13                  8   \n",
       "206              5                     4                 22   \n",
       "207              6                    10                 14   \n",
       "208              7                     5                 16   \n",
       "209              8                     9                 25   \n",
       "210              9                    12                 18   \n",
       "\n",
       "     quality_of_faculty  publications  influence  citations  broad_impact  \\\n",
       "200                   1             1          1          1           1.0   \n",
       "201                   4             5          3          3           4.0   \n",
       "202                   2            15          2          2           2.0   \n",
       "203                   5            10          9         12          13.0   \n",
       "204                  10            11         12         11          12.0   \n",
       "205                   9            14         13          9          13.0   \n",
       "206                   6             7          4          3           7.0   \n",
       "207                   8            17         19         10          18.0   \n",
       "208                   3            70         25         19          41.0   \n",
       "209                  11            18          7         32          19.0   \n",
       "210                  19            23         15         23          23.0   \n",
       "\n",
       "     patents   score  year  \n",
       "200        2  100.00  2014  \n",
       "201        6   99.09  2014  \n",
       "202        1   98.69  2014  \n",
       "203       48   97.64  2014  \n",
       "204       16   97.51  2014  \n",
       "205        4   97.41  2014  \n",
       "206       28   92.84  2014  \n",
       "207      149   92.03  2014  \n",
       "208      204   88.56  2014  \n",
       "209       45   88.11  2014  \n",
       "210       12   85.80  2014  "
      ]
     },
     "execution_count": 11,
     "metadata": {},
     "output_type": "execute_result"
    }
   ],
   "source": [
    "data_no_null.head(11)"
   ]
  },
  {
   "cell_type": "code",
   "execution_count": 12,
   "id": "018c17a4-1f12-4b67-96cb-45402e76c69f",
   "metadata": {},
   "outputs": [
    {
     "name": "stdout",
     "output_type": "stream",
     "text": [
      "Всего строк: 2000\n"
     ]
    }
   ],
   "source": [
    "total_count = data_no_null.shape[0]\n",
    "print('Всего строк: {}'.format(total_count))"
   ]
  },
  {
   "cell_type": "code",
   "execution_count": null,
   "id": "fe7444b9-ee0d-4ddf-b259-ff0852f55c8a",
   "metadata": {},
   "outputs": [],
   "source": []
  }
 ],
 "metadata": {
  "kernelspec": {
   "display_name": "Python 3 (ipykernel)",
   "language": "python",
   "name": "python3"
  },
  "language_info": {
   "codemirror_mode": {
    "name": "ipython",
    "version": 3
   },
   "file_extension": ".py",
   "mimetype": "text/x-python",
   "name": "python",
   "nbconvert_exporter": "python",
   "pygments_lexer": "ipython3",
   "version": "3.10.12"
  }
 },
 "nbformat": 4,
 "nbformat_minor": 5
}
