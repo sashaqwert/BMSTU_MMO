{
 "cells": [
  {
   "cell_type": "markdown",
   "id": "43390c85-48c8-4446-a0f8-f06059bb3fdd",
   "metadata": {},
   "source": [
    "# Задание"
   ]
  },
  {
   "cell_type": "markdown",
   "id": "1f14f65e-c41e-4178-b95a-99cf1d0ffa41",
   "metadata": {},
   "source": [
    "## Выбор варианта задания"
   ]
  },
  {
   "cell_type": "markdown",
   "id": "37f3d3d6-64e0-4db2-bb93-11f4b01e406b",
   "metadata": {},
   "source": [
    "Исходные данные:\n",
    "* Факультет **ИУ**, кафедра **ИУ5**\n",
    "* Учебная группа: ИУ5-22М\n",
    "* Порядковый номер в группе на 23.03.2024: 15"
   ]
  },
  {
   "cell_type": "markdown",
   "id": "1351e8ea-90c7-4a4a-a53c-be367d060726",
   "metadata": {},
   "source": [
    "На основании этих данных были получены следующие задания:\n",
    "| Задача 1 | Задача 2 |\n",
    "|----------|----------|\n",
    "|    15    |   35     |"
   ]
  },
  {
   "cell_type": "markdown",
   "id": "3592c4d4-cecc-4d92-9a24-2521b1d527a6",
   "metadata": {},
   "source": [
    "Также имеется дополнительное требование для группы:\n",
    "* Для студентов групп ИУ5-22М, ИУ5И-22М - для произвольной колонки данных построить гистограмму."
   ]
  },
  {
   "cell_type": "markdown",
   "id": "353e8588-6419-408e-9db4-d632db00e7b8",
   "metadata": {},
   "source": [
    "## Условия задач"
   ]
  },
  {
   "cell_type": "markdown",
   "id": "82c122dd-a368-45f2-97ec-ebbb4ad8ad98",
   "metadata": {},
   "source": [
    "Ниже представлены условия выданных задач"
   ]
  },
  {
   "cell_type": "markdown",
   "id": "af2d3a95-925b-43f7-a5e3-570fea8de34a",
   "metadata": {},
   "source": [
    "### Задача №15"
   ]
  },
  {
   "cell_type": "markdown",
   "id": "1edd2cc6-33a2-4147-aac6-40ed44c1bf13",
   "metadata": {},
   "source": [
    "Для набора данных проведите нормализацию для одного (произвольного) числового признака с использованием функции \"возведение в степень\"."
   ]
  },
  {
   "cell_type": "markdown",
   "id": "8f13f746-618a-42a2-b867-01925ace38ce",
   "metadata": {},
   "source": [
    "### Задача №35"
   ]
  },
  {
   "cell_type": "markdown",
   "id": "f62ffd22-0c64-42a5-89cb-acc6351fa84c",
   "metadata": {},
   "source": [
    "Для набора данных проведите процедуру отбора признаков (feature selection). Используйте метод вложений (embedded method). Используйте подход на основе дерева решений."
   ]
  },
  {
   "cell_type": "markdown",
   "id": "bceb3d65-1eb6-4828-a3d6-f5bb95892ebe",
   "metadata": {},
   "source": [
    "# Ход выполнения работы"
   ]
  },
  {
   "cell_type": "code",
   "execution_count": null,
   "id": "0a24c99b-7b41-43e7-a593-2d864e32617d",
   "metadata": {},
   "outputs": [],
   "source": []
  }
 ],
 "metadata": {
  "kernelspec": {
   "display_name": "Python 3 (ipykernel)",
   "language": "python",
   "name": "python3"
  },
  "language_info": {
   "codemirror_mode": {
    "name": "ipython",
    "version": 3
   },
   "file_extension": ".py",
   "mimetype": "text/x-python",
   "name": "python",
   "nbconvert_exporter": "python",
   "pygments_lexer": "ipython3",
   "version": "3.10.12"
  }
 },
 "nbformat": 4,
 "nbformat_minor": 5
}
